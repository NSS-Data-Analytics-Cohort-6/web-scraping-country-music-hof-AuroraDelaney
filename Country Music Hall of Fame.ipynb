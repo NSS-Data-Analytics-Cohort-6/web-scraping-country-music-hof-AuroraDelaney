{
 "cells": [
  {
   "cell_type": "markdown",
   "id": "20530108",
   "metadata": {},
   "source": [
    "1. Start by using either the inspector or by viewing the page source. Can you identify a tag that might be helpful for finding the names of all inductees? Make use of this to create a list containing just the names of each inductee."
   ]
  },
  {
   "cell_type": "code",
   "execution_count": 1,
   "id": "b1400d34",
   "metadata": {},
   "outputs": [],
   "source": [
    "import requests\n",
    "import pandas as pd\n",
    "from bs4 import BeautifulSoup as BS\n",
    "import re"
   ]
  },
  {
   "cell_type": "code",
   "execution_count": 2,
   "id": "f421e83d",
   "metadata": {},
   "outputs": [
    {
     "data": {
      "text/plain": [
       "[<h3>Roy Acuff</h3>,\n",
       " <h3>Alabama</h3>,\n",
       " <h3>Bill Anderson</h3>,\n",
       " <h3>Eddy Arnold</h3>,\n",
       " <h3>Chet Atkins</h3>,\n",
       " <h3>Gene Autry</h3>,\n",
       " <h3>DeFord Bailey</h3>,\n",
       " <h3>Bobby Bare</h3>,\n",
       " <h3>Eddie Bayers</h3>]"
      ]
     },
     "execution_count": 2,
     "metadata": {},
     "output_type": "execute_result"
    }
   ],
   "source": [
    "URL = \"https://countrymusichalloffame.org/hall-of-fame/members/\"\n",
    "response = requests.get(URL)\n",
    "soup = BS(response.text)\n",
    "soup.findAll(\"h3\")"
   ]
  },
  {
   "cell_type": "code",
   "execution_count": 3,
   "id": "e8fd3131",
   "metadata": {},
   "outputs": [
    {
     "data": {
      "text/plain": [
       "[<div class=\"vertical-card_content--copy\">\n",
       " <p>\n",
       "                     Inducted 1962                  </p>\n",
       " </div>,\n",
       " <div class=\"vertical-card_content--copy\">\n",
       " <p>\n",
       "                     Inducted 2005                  </p>\n",
       " </div>,\n",
       " <div class=\"vertical-card_content--copy\">\n",
       " <p>\n",
       "                     Inducted 2001                  </p>\n",
       " </div>,\n",
       " <div class=\"vertical-card_content--copy\">\n",
       " <p>\n",
       "                     Inducted 1966                  </p>\n",
       " </div>,\n",
       " <div class=\"vertical-card_content--copy\">\n",
       " <p>\n",
       "                     Inducted 1973                  </p>\n",
       " </div>,\n",
       " <div class=\"vertical-card_content--copy\">\n",
       " <p>\n",
       "                     Inducted 1969                  </p>\n",
       " </div>,\n",
       " <div class=\"vertical-card_content--copy\">\n",
       " <p>\n",
       "                     Inducted 2005                  </p>\n",
       " </div>,\n",
       " <div class=\"vertical-card_content--copy\">\n",
       " <p>\n",
       "                     Inducted 2013                  </p>\n",
       " </div>,\n",
       " <div class=\"vertical-card_content--copy\">\n",
       " <p>\n",
       "                     Inducted 2022                  </p>\n",
       " </div>]"
      ]
     },
     "execution_count": 3,
     "metadata": {},
     "output_type": "execute_result"
    }
   ],
   "source": [
    "soup.findAll(attrs={\"class\" : \"vertical-card_content--copy\"})"
   ]
  },
  {
   "cell_type": "code",
   "execution_count": 4,
   "id": "830cf529",
   "metadata": {},
   "outputs": [
    {
     "name": "stdout",
     "output_type": "stream",
     "text": [
      "https://countrymusichalloffame.org/hall-of-fame/members/page/1\n",
      "https://countrymusichalloffame.org/hall-of-fame/members/page/2\n",
      "https://countrymusichalloffame.org/hall-of-fame/members/page/3\n",
      "https://countrymusichalloffame.org/hall-of-fame/members/page/4\n",
      "https://countrymusichalloffame.org/hall-of-fame/members/page/5\n",
      "https://countrymusichalloffame.org/hall-of-fame/members/page/6\n",
      "https://countrymusichalloffame.org/hall-of-fame/members/page/7\n",
      "https://countrymusichalloffame.org/hall-of-fame/members/page/8\n",
      "https://countrymusichalloffame.org/hall-of-fame/members/page/9\n",
      "https://countrymusichalloffame.org/hall-of-fame/members/page/10\n",
      "https://countrymusichalloffame.org/hall-of-fame/members/page/11\n",
      "https://countrymusichalloffame.org/hall-of-fame/members/page/12\n",
      "https://countrymusichalloffame.org/hall-of-fame/members/page/13\n",
      "https://countrymusichalloffame.org/hall-of-fame/members/page/14\n",
      "https://countrymusichalloffame.org/hall-of-fame/members/page/15\n",
      "https://countrymusichalloffame.org/hall-of-fame/members/page/16\n",
      "https://countrymusichalloffame.org/hall-of-fame/members/page/17\n"
     ]
    }
   ],
   "source": [
    "page = 1\n",
    "artist = []\n",
    "year = []\n",
    "while page != 18:\n",
    "    URL = f\"https://countrymusichalloffame.org/hall-of-fame/members/page/{page}\"\n",
    "    print(URL)\n",
    "    response = requests.get(URL)\n",
    "    soup = BS(response.text)\n",
    "    for h3 in soup.findAll(\"h3\"):\n",
    "        artist.append(h3.get_text(strip=True))\n",
    "    yr= str(soup.findAll(attrs={\"class\" : \"vertical-card_content--copy\"}))\n",
    "    yr = re.findall(r\"\\d{4}\", yr)\n",
    "    year.append(yr)\n",
    "    page = page + 1\n",
    "flat_list=list()\n",
    "for sub_list in year:\n",
    "    flat_list += sub_list\n",
    "year = flat_list   "
   ]
  },
  {
   "cell_type": "code",
   "execution_count": 5,
   "id": "c1586f45",
   "metadata": {},
   "outputs": [
    {
     "data": {
      "text/html": [
       "<div>\n",
       "<style scoped>\n",
       "    .dataframe tbody tr th:only-of-type {\n",
       "        vertical-align: middle;\n",
       "    }\n",
       "\n",
       "    .dataframe tbody tr th {\n",
       "        vertical-align: top;\n",
       "    }\n",
       "\n",
       "    .dataframe thead th {\n",
       "        text-align: right;\n",
       "    }\n",
       "</style>\n",
       "<table border=\"1\" class=\"dataframe\">\n",
       "  <thead>\n",
       "    <tr style=\"text-align: right;\">\n",
       "      <th></th>\n",
       "      <th>Artist</th>\n",
       "      <th>Year</th>\n",
       "    </tr>\n",
       "  </thead>\n",
       "  <tbody>\n",
       "    <tr>\n",
       "      <th>0</th>\n",
       "      <td>Roy Acuff</td>\n",
       "      <td>1962</td>\n",
       "    </tr>\n",
       "    <tr>\n",
       "      <th>1</th>\n",
       "      <td>Alabama</td>\n",
       "      <td>2005</td>\n",
       "    </tr>\n",
       "    <tr>\n",
       "      <th>2</th>\n",
       "      <td>Bill Anderson</td>\n",
       "      <td>2001</td>\n",
       "    </tr>\n",
       "    <tr>\n",
       "      <th>3</th>\n",
       "      <td>Eddy Arnold</td>\n",
       "      <td>1966</td>\n",
       "    </tr>\n",
       "    <tr>\n",
       "      <th>4</th>\n",
       "      <td>Chet Atkins</td>\n",
       "      <td>1973</td>\n",
       "    </tr>\n",
       "    <tr>\n",
       "      <th>...</th>\n",
       "      <td>...</td>\n",
       "      <td>...</td>\n",
       "    </tr>\n",
       "    <tr>\n",
       "      <th>142</th>\n",
       "      <td>Hank Williams Jr.</td>\n",
       "      <td>2021</td>\n",
       "    </tr>\n",
       "    <tr>\n",
       "      <th>143</th>\n",
       "      <td>Bob Wills</td>\n",
       "      <td>1968</td>\n",
       "    </tr>\n",
       "    <tr>\n",
       "      <th>144</th>\n",
       "      <td>Mac Wiseman</td>\n",
       "      <td>2014</td>\n",
       "    </tr>\n",
       "    <tr>\n",
       "      <th>145</th>\n",
       "      <td>Tammy Wynette</td>\n",
       "      <td>1998</td>\n",
       "    </tr>\n",
       "    <tr>\n",
       "      <th>146</th>\n",
       "      <td>Faron Young</td>\n",
       "      <td>2000</td>\n",
       "    </tr>\n",
       "  </tbody>\n",
       "</table>\n",
       "<p>147 rows × 2 columns</p>\n",
       "</div>"
      ],
      "text/plain": [
       "                Artist  Year\n",
       "0            Roy Acuff  1962\n",
       "1              Alabama  2005\n",
       "2        Bill Anderson  2001\n",
       "3          Eddy Arnold  1966\n",
       "4          Chet Atkins  1973\n",
       "..                 ...   ...\n",
       "142  Hank Williams Jr.  2021\n",
       "143          Bob Wills  1968\n",
       "144        Mac Wiseman  2014\n",
       "145      Tammy Wynette  1998\n",
       "146        Faron Young  2000\n",
       "\n",
       "[147 rows x 2 columns]"
      ]
     },
     "execution_count": 5,
     "metadata": {},
     "output_type": "execute_result"
    }
   ],
   "source": [
    "artistdf = {\"Artist\" : artist, \"Year\": year}\n",
    "artistdf = pd.DataFrame(artistdf)\n",
    "artistdf"
   ]
  },
  {
   "cell_type": "markdown",
   "id": "cbeb41af",
   "metadata": {},
   "source": [
    "Bonus Question: If you navigate to Roy Acuff's page, you will see that his date of birth and date of death are listed towards the top of the page, along with his birthplace. Write some code that will extract these three values. Once you get it working for Roy Acuff, figure out how you can automatically extract these values across the whole dataset of artists. In doing this, you'll need to figure out a way to automatically determine the correct urls for each artist. Note also that not every artist will have these three values, so write your code in a way that it can handle cases where these values are missing. Alabama is one such example."
   ]
  },
  {
   "cell_type": "code",
   "execution_count": 9,
   "id": "0328714d",
   "metadata": {},
   "outputs": [
    {
     "ename": "SyntaxError",
     "evalue": "invalid syntax (Temp/ipykernel_11080/301741580.py, line 2)",
     "output_type": "error",
     "traceback": [
      "\u001b[1;36m  File \u001b[1;32m\"C:\\Users\\roryv\\AppData\\Local\\Temp/ipykernel_11080/301741580.py\"\u001b[1;36m, line \u001b[1;32m2\u001b[0m\n\u001b[1;33m    for x in artistdf\u001b[0m\n\u001b[1;37m                     ^\u001b[0m\n\u001b[1;31mSyntaxError\u001b[0m\u001b[1;31m:\u001b[0m invalid syntax\n"
     ]
    }
   ],
   "source": [
    "artistdf.soup.findAll(\")\n",
    "for x in artistdf\n",
    "    print(artistdf.get(\"\"))\n",
    "                      #I was watching a tutorial to try and help"
   ]
  },
  {
   "cell_type": "code",
   "execution_count": null,
   "id": "a1fee113",
   "metadata": {},
   "outputs": [],
   "source": [
    "#maggies code\n",
    "new_artist=[names.text for names in artist_list.findAll('h3')]\n",
    "\n"
   ]
  }
 ],
 "metadata": {
  "kernelspec": {
   "display_name": "Python 3 (ipykernel)",
   "language": "python",
   "name": "python3"
  },
  "language_info": {
   "codemirror_mode": {
    "name": "ipython",
    "version": 3
   },
   "file_extension": ".py",
   "mimetype": "text/x-python",
   "name": "python",
   "nbconvert_exporter": "python",
   "pygments_lexer": "ipython3",
   "version": "3.9.7"
  }
 },
 "nbformat": 4,
 "nbformat_minor": 5
}
